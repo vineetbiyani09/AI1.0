{
  "nbformat": 4,
  "nbformat_minor": 0,
  "metadata": {
    "colab": {
      "name": "Untitled0.ipynb",
      "provenance": [],
      "authorship_tag": "ABX9TyOhIwNWT9ix19Kp3/VT5lw9",
      "include_colab_link": true
    },
    "kernelspec": {
      "name": "python3",
      "display_name": "Python 3"
    }
  },
  "cells": [
    {
      "cell_type": "markdown",
      "metadata": {
        "id": "view-in-github",
        "colab_type": "text"
      },
      "source": [
        "<a href=\"https://colab.research.google.com/github/vineetbiyani09/AI1.0/blob/master/HW/HW_J010_04_07_2020.ipynb\" target=\"_parent\"><img src=\"https://colab.research.google.com/assets/colab-badge.svg\" alt=\"Open In Colab\"/></a>"
      ]
    },
    {
      "cell_type": "code",
      "metadata": {
        "id": "FFdlVvcCG3uG",
        "colab_type": "code",
        "colab": {}
      },
      "source": [
        "n = int(input())\n",
        "if n%2 != 0:\n",
        "    print('Weird')\n",
        "elif n%2==0 and n<6 and 1<n:\n",
        "    print('Not Weird')\n",
        "elif n%2==0 and n<21 and 5<n :\n",
        "    print('Weird')\n",
        "else:\n",
        "    print('Not Weird')"
      ],
      "execution_count": null,
      "outputs": []
    },
    {
      "cell_type": "code",
      "metadata": {
        "id": "yvHQeaz6G-cD",
        "colab_type": "code",
        "colab": {}
      },
      "source": [
        "a = int(input())\n",
        "b = int(input())\n",
        "y=a+b\n",
        "sub = a-b\n",
        "product=a*b\n",
        "print(y)\n",
        "print(sub)\n",
        "print(product)\n"
      ],
      "execution_count": null,
      "outputs": []
    },
    {
      "cell_type": "code",
      "metadata": {
        "id": "9cXBKpXDHEJx",
        "colab_type": "code",
        "colab": {}
      },
      "source": [
        "x = int(input())\n",
        "y = int(input())\n",
        "\n",
        "print(x//y)\n",
        "print(x/y)"
      ],
      "execution_count": null,
      "outputs": []
    },
    {
      "cell_type": "code",
      "metadata": {
        "id": "5QIPomTqHHCB",
        "colab_type": "code",
        "colab": {}
      },
      "source": [
        "for i in range(input()):\n",
        "    print(i*i)"
      ],
      "execution_count": null,
      "outputs": []
    },
    {
      "cell_type": "code",
      "metadata": {
        "id": "F1F8_qR9HJQA",
        "colab_type": "code",
        "colab": {}
      },
      "source": [
        "for i in range(int(input())):\n",
        "    print(i+1,end=\"\")"
      ],
      "execution_count": null,
      "outputs": []
    },
    {
      "cell_type": "code",
      "metadata": {
        "id": "8G8pdJOuHLWu",
        "colab_type": "code",
        "colab": {}
      },
      "source": [
        "if __name__ == '__main__':\n",
        "    x = int(input())\n",
        "    y = int(input())\n",
        "    z = int(input())\n",
        "    n = int(input())\n",
        "    a=[[i,j,k] for i in range (x+1) for j in range(y+1) for k in range(z+1) if((i+j+k) !=n)]\n",
        "\n",
        "print(a)"
      ],
      "execution_count": null,
      "outputs": []
    }
  ]
}