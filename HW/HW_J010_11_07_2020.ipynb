{
  "nbformat": 4,
  "nbformat_minor": 0,
  "metadata": {
    "colab": {
      "name": "HW_J010_11_07_2020.ipynb",
      "provenance": [],
      "authorship_tag": "ABX9TyN+j+dbj/KEt6S/oAecFdUf",
      "include_colab_link": true
    },
    "kernelspec": {
      "name": "python3",
      "display_name": "Python 3"
    }
  },
  "cells": [
    {
      "cell_type": "markdown",
      "metadata": {
        "id": "view-in-github",
        "colab_type": "text"
      },
      "source": [
        "<a href=\"https://colab.research.google.com/github/vineetbiyani09/AI1.0/blob/master/HW/HW_J010_11_07_2020.ipynb\" target=\"_parent\"><img src=\"https://colab.research.google.com/assets/colab-badge.svg\" alt=\"Open In Colab\"/></a>"
      ]
    },
    {
      "cell_type": "markdown",
      "metadata": {
        "id": "KQyizyIHI_L6",
        "colab_type": "text"
      },
      "source": [
        "1.Create a custom class DataRead to read csv file using pandas\n",
        "\n",
        "2.Create a custom function RowSelect within the class to select any 2 rows of the the the dataframe\n",
        "\n",
        "3.Create a sub class of DataRead1 as DataRead2 that has function for correlation plots (using any lib for correlation plot)\n",
        "\n",
        "4.Within DataRead2 also create a function to override the custom function of DataRead1 RowSelect to select 3 rows"
      ]
    },
    {
      "cell_type": "code",
      "metadata": {
        "id": "xnd0V8rkIoXg",
        "colab_type": "code",
        "colab": {}
      },
      "source": [
        "import pandas as pd\n",
        "import matplotlib.pylab as plt\n",
        "import numpy as np\n",
        "class DataRead :\n",
        "  def __init__ (self,filename):\n",
        "    self.dfile = pd.read_csv(filename)\n",
        "  def display_rows(self,n):\n",
        "    print (self.dfile.iloc[n])\n",
        "class DataRead2(DataRead):\n",
        "  def __init__ (self,filename):\n",
        "    DataRead.__init__(DataRead,filename)\n",
        "  def correlationplot (self):\n",
        "    df2 = self.dfile\n",
        "    corr= df2.corr()\n",
        "    fig = plt.figure()\n",
        "    ax = fig.add_subplot()\n",
        "    cax = ax.matshow(corr, cmap='coolwarm')\n",
        "    fig.colorbar(cax)\n",
        "    ticks = np.arange(0,len(corr.columns),1)\n",
        "    ax.set_xticks(ticks)\n",
        "    ax.set_yticks(ticks)\n",
        "    plt.xticks(rotation=90)\n",
        "    ax.set_xticklabels(corr.columns)\n",
        "    ax.set_yticklabels(corr.columns)\n",
        "    plt.show()\n",
        "  def display_rows(self,n):\n",
        "      print (self.dfile.iloc[n])"
      ],
      "execution_count": 1,
      "outputs": []
    },
    {
      "cell_type": "code",
      "metadata": {
        "id": "byNKmzg7JH_0",
        "colab_type": "code",
        "colab": {
          "base_uri": "https://localhost:8080/",
          "height": 119
        },
        "outputId": "c2eb023b-0e7f-4339-dcdf-ff20e25d01c0"
      },
      "source": [
        "filename = '/content/iris.csv'\n",
        "datafile = DataRead(filename)\n",
        "print(datafile.dfile.head())"
      ],
      "execution_count": 2,
      "outputs": [
        {
          "output_type": "stream",
          "text": [
            "   sepal_length  sepal_width  petal_length  petal_width species\n",
            "0           5.1          3.5           1.4          0.2  setosa\n",
            "1           4.9          3.0           1.4          0.2  setosa\n",
            "2           4.7          3.2           1.3          0.2  setosa\n",
            "3           4.6          3.1           1.5          0.2  setosa\n",
            "4           5.0          3.6           1.4          0.2  setosa\n"
          ],
          "name": "stdout"
        }
      ]
    },
    {
      "cell_type": "code",
      "metadata": {
        "id": "wYRPezdpJb97",
        "colab_type": "code",
        "colab": {
          "base_uri": "https://localhost:8080/",
          "height": 119
        },
        "outputId": "88bbb867-bd60-4b3a-ef91-b62eb73984af"
      },
      "source": [
        "x = int(input())\n",
        "y = int(input())\n",
        "array = ([x],[y])\n",
        "for i in array:\n",
        "  datafile.display_rows(i)"
      ],
      "execution_count": 3,
      "outputs": [
        {
          "output_type": "stream",
          "text": [
            "0\n",
            "1\n",
            "   sepal_length  sepal_width  petal_length  petal_width species\n",
            "0           5.1          3.5           1.4          0.2  setosa\n",
            "   sepal_length  sepal_width  petal_length  petal_width species\n",
            "1           4.9          3.0           1.4          0.2  setosa\n"
          ],
          "name": "stdout"
        }
      ]
    },
    {
      "cell_type": "code",
      "metadata": {
        "id": "9KgCBcGMJuNY",
        "colab_type": "code",
        "colab": {
          "base_uri": "https://localhost:8080/",
          "height": 322
        },
        "outputId": "e0ad37d4-68c8-4290-d689-fe8a0fa166a1"
      },
      "source": [
        "sub = DataRead2(filename)\n",
        "sub.correlationplot()"
      ],
      "execution_count": 4,
      "outputs": [
        {
          "output_type": "display_data",
          "data": {
            "image/png": "[encoded data removed]",
            "text/plain": [
              "<Figure size 432x288 with 2 Axes>"
            ]
          },
          "metadata": {
            "tags": [],
            "needs_background": "light"
          }
        }
      ]
    },
    {
      "cell_type": "code",
      "metadata": {
        "id": "vE-1QbpBKFRp",
        "colab_type": "code",
        "colab": {
          "base_uri": "https://localhost:8080/",
          "height": 170
        },
        "outputId": "51d3cc51-5ff9-4fe4-a931-7ff6c778416d"
      },
      "source": [
        "x = int(input())\n",
        "y = int(input())\n",
        "z = int(input())\n",
        "array = ([x],[y],[z])\n",
        "for i in array:\n",
        "  sub.display_rows(i)"
      ],
      "execution_count": 5,
      "outputs": [
        {
          "output_type": "stream",
          "text": [
            "0\n",
            "1\n",
            "2\n",
            "   sepal_length  sepal_width  petal_length  petal_width species\n",
            "0           5.1          3.5           1.4          0.2  setosa\n",
            "   sepal_length  sepal_width  petal_length  petal_width species\n",
            "1           4.9          3.0           1.4          0.2  setosa\n",
            "   sepal_length  sepal_width  petal_length  petal_width species\n",
            "2           4.7          3.2           1.3          0.2  setosa\n"
          ],
          "name": "stdout"
        }
      ]
    }
  ]
}