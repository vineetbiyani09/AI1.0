{
  "nbformat": 4,
  "nbformat_minor": 0,
  "metadata": {
    "colab": {
      "name": "CW_J010_08_08_2020.ipynb",
      "provenance": [],
      "authorship_tag": "ABX9TyO75bTk7/tz4W0IpUXI6jXg",
      "include_colab_link": true
    },
    "kernelspec": {
      "name": "python3",
      "display_name": "Python 3"
    }
  },
  "cells": [
    {
      "cell_type": "markdown",
      "metadata": {
        "id": "view-in-github",
        "colab_type": "text"
      },
      "source": [
        "<a href=\"https://colab.research.google.com/github/vineetbiyani09/AI1.0/blob/master/CW/CW_J010_08_08_2020.ipynb\" target=\"_parent\"><img src=\"https://colab.research.google.com/assets/colab-badge.svg\" alt=\"Open In Colab\"/></a>"
      ]
    },
    {
      "cell_type": "markdown",
      "metadata": {
        "id": "DzfP-i0rCf3u",
        "colab_type": "text"
      },
      "source": [
        "PTIME - If n is the input size then, if complete computation can be done or expressed in a polynomial(algebraic expression with degree or highest power as a whole number). Time Complexity is O(n^K) where a polynomial of an^k+a1*n^k-1+... will be of order an^k\n",
        "\n",
        "n^(-1/3)-> 1/n^(1/3)\n",
        "\n",
        "n = 27 ; n = 216\n",
        "\n",
        "1/3 ; 1/6 1/3 > 1/6\n",
        "\n",
        "Can time for computation decrease as inputs increase ?"
      ]
    },
    {
      "cell_type": "code",
      "metadata": {
        "id": "dcOVm_PoCN7p",
        "colab_type": "code",
        "colab": {}
      },
      "source": [
        "def fact(n):\n",
        "  product = 1\n",
        "  for i in range (n):\n",
        "    product = product * (i+1)\n",
        "  return product"
      ],
      "execution_count": 1,
      "outputs": []
    },
    {
      "cell_type": "code",
      "metadata": {
        "id": "L0RvXLmgC0dE",
        "colab_type": "code",
        "colab": {
          "base_uri": "https://localhost:8080/",
          "height": 51
        },
        "outputId": "bb53b2c3-463e-4330-cc26-e64be5671c4f"
      },
      "source": [
        "%timeit (fact(5))\n"
      ],
      "execution_count": 2,
      "outputs": [
        {
          "output_type": "stream",
          "text": [
            "The slowest run took 4.64 times longer than the fastest. This could mean that an intermediate result is being cached.\n",
            "1000000 loops, best of 3: 503 ns per loop\n"
          ],
          "name": "stdout"
        }
      ]
    },
    {
      "cell_type": "code",
      "metadata": {
        "id": "Xzkqh5OCC4c8",
        "colab_type": "code",
        "colab": {
          "base_uri": "https://localhost:8080/",
          "height": 51
        },
        "outputId": "6ecd952f-dc27-4140-948e-3572a93936aa"
      },
      "source": [
        "%timeit (fact(50))"
      ],
      "execution_count": 3,
      "outputs": [
        {
          "output_type": "stream",
          "text": [
            "The slowest run took 4.83 times longer than the fastest. This could mean that an intermediate result is being cached.\n",
            "100000 loops, best of 3: 3.77 µs per loop\n"
          ],
          "name": "stdout"
        }
      ]
    },
    {
      "cell_type": "code",
      "metadata": {
        "id": "VaL0pz6LC7q0",
        "colab_type": "code",
        "colab": {
          "base_uri": "https://localhost:8080/",
          "height": 34
        },
        "outputId": "26f30da6-d9eb-4a82-9f7d-68091313742a"
      },
      "source": [
        "%timeit (fact(500))"
      ],
      "execution_count": 4,
      "outputs": [
        {
          "output_type": "stream",
          "text": [
            "10000 loops, best of 3: 73.7 µs per loop\n"
          ],
          "name": "stdout"
        }
      ]
    },
    {
      "cell_type": "code",
      "metadata": {
        "id": "4g4hGK1kC-xD",
        "colab_type": "code",
        "colab": {
          "base_uri": "https://localhost:8080/",
          "height": 34
        },
        "outputId": "d4fe9942-3807-4bb1-df65-092afb6111e9"
      },
      "source": [
        "%timeit (fact(1000))"
      ],
      "execution_count": 5,
      "outputs": [
        {
          "output_type": "stream",
          "text": [
            "1000 loops, best of 3: 236 µs per loop\n"
          ],
          "name": "stdout"
        }
      ]
    },
    {
      "cell_type": "markdown",
      "metadata": {
        "id": "N9fr_A9QDB9U",
        "colab_type": "text"
      },
      "source": [
        "We see an increase in run time as n or the input increases\n",
        "\n",
        "Non Linear Increase"
      ]
    },
    {
      "cell_type": "code",
      "metadata": {
        "id": "SnUJR8o7DDJ2",
        "colab_type": "code",
        "colab": {}
      },
      "source": [
        "def sum(a,b):\n",
        "  return a+b"
      ],
      "execution_count": 6,
      "outputs": []
    },
    {
      "cell_type": "code",
      "metadata": {
        "id": "3-xfwh4wDGer",
        "colab_type": "code",
        "colab": {
          "base_uri": "https://localhost:8080/",
          "height": 34
        },
        "outputId": "af754094-b629-45dd-f8e3-6c2bc172f4f5"
      },
      "source": [
        "%timeit sum(5,10)"
      ],
      "execution_count": 7,
      "outputs": [
        {
          "output_type": "stream",
          "text": [
            "10000000 loops, best of 3: 85 ns per loop\n"
          ],
          "name": "stdout"
        }
      ]
    },
    {
      "cell_type": "code",
      "metadata": {
        "id": "jra4bhkcDJLI",
        "colab_type": "code",
        "colab": {
          "base_uri": "https://localhost:8080/",
          "height": 51
        },
        "outputId": "f9bf02a8-65e5-45b3-cf7b-3409f2a754d0"
      },
      "source": [
        "%timeit sum(50,100)"
      ],
      "execution_count": 8,
      "outputs": [
        {
          "output_type": "stream",
          "text": [
            "The slowest run took 17.94 times longer than the fastest. This could mean that an intermediate result is being cached.\n",
            "10000000 loops, best of 3: 85.2 ns per loop\n"
          ],
          "name": "stdout"
        }
      ]
    },
    {
      "cell_type": "code",
      "metadata": {
        "id": "2BGwyYedDLCZ",
        "colab_type": "code",
        "colab": {
          "base_uri": "https://localhost:8080/",
          "height": 51
        },
        "outputId": "8cbcedcb-55cb-4f68-ad97-a7f625e83ed9"
      },
      "source": [
        "%timeit sum(500,1000)\n"
      ],
      "execution_count": 9,
      "outputs": [
        {
          "output_type": "stream",
          "text": [
            "The slowest run took 19.57 times longer than the fastest. This could mean that an intermediate result is being cached.\n",
            "10000000 loops, best of 3: 95.4 ns per loop\n"
          ],
          "name": "stdout"
        }
      ]
    },
    {
      "cell_type": "code",
      "metadata": {
        "id": "URjrU3ZvDNOn",
        "colab_type": "code",
        "colab": {
          "base_uri": "https://localhost:8080/",
          "height": 51
        },
        "outputId": "064db045-8c55-4794-b597-654f76687edd"
      },
      "source": [
        "%timeit sum(5000,10000)\n"
      ],
      "execution_count": 10,
      "outputs": [
        {
          "output_type": "stream",
          "text": [
            "The slowest run took 13.91 times longer than the fastest. This could mean that an intermediate result is being cached.\n",
            "10000000 loops, best of 3: 95.5 ns per loop\n"
          ],
          "name": "stdout"
        }
      ]
    },
    {
      "cell_type": "markdown",
      "metadata": {
        "id": "HjKZcY-2DRjQ",
        "colab_type": "text"
      },
      "source": [
        "NP(Problem) - Solution is in non polynomial time\n",
        "\n",
        "P(Problem) - Max Solution time or Upper Bound is in Polynomial Time O(n^4) -> log n = (n*logn)\n",
        "\n",
        "          log 50(base10) - 1.69 ()<n^1\n",
        "\n",
        "          log 500(base10) - 2.69 ()<n^1\n",
        "\n",
        "          log 5000(base10) - 3.69 ()<n^1\n",
        "\n",
        "          for non linear change in n , change is linear\n",
        "\n",
        "NP () - n!\n",
        "\n",
        "    5!   120 -> <5^3\n",
        "\n",
        "    50!  3.0414093e+64 microsecs -> days -> 3.5201497e+53 days\n",
        "\n",
        "    500! \n",
        "\n",
        "    5000!\n",
        "\n",
        "NP Complete - > All NP hard problems can be approximated to the problem then it is NP Complete.\n",
        "\n",
        "NP hard - > A problem is NP Hard if its solution is in NP, Cannot be verified in Polynomial Time\n",
        "\n",
        "AI Complete or AI Hard Problems SAT - n-SAT (2-SAT)\n",
        "\n",
        "We see an increase in run time as n or the input increases"
      ]
    }
  ]
}