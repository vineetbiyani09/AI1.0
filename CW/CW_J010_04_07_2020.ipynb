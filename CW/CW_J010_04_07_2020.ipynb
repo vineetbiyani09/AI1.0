{
  "nbformat": 4,
  "nbformat_minor": 0,
  "metadata": {
    "colab": {
      "name": "Untitled1.ipynb",
      "provenance": [],
      "authorship_tag": "ABX9TyMlkV9912dNxGnhCwcFFdG2",
      "include_colab_link": true
    },
    "kernelspec": {
      "name": "python3",
      "display_name": "Python 3"
    }
  },
  "cells": [
    {
      "cell_type": "markdown",
      "metadata": {
        "id": "view-in-github",
        "colab_type": "text"
      },
      "source": [
        "<a href=\"https://colab.research.google.com/github/vineetbiyani09/AI1.0/blob/master/CW/CW_J010_04_07_2020.ipynb\" target=\"_parent\"><img src=\"https://colab.research.google.com/assets/colab-badge.svg\" alt=\"Open In Colab\"/></a>"
      ]
    },
    {
      "cell_type": "code",
      "metadata": {
        "id": "u_J4M-opKIY6",
        "colab_type": "code",
        "colab": {
          "base_uri": "https://localhost:8080/",
          "height": 34
        },
        "outputId": "94f0c40b-3c68-47d3-ed7e-166bf15f3686"
      },
      "source": [
        "#list\n",
        "a= [1,2,3,4,5,'human']\n",
        "print(a)\n",
        "b=[[1,2,3,4,5,'human'],[1,2,3,4,5],[3,4,5,'human']]\n",
        "\n",
        "#tuple\n",
        "a=(1,2,3,4,5,'human')\n",
        "\n",
        "#set\n",
        "a={1,2,3,4,5,'human'}\n",
        "\n",
        "#dictionary\n",
        "a={'list': [1,2,3,4,5,'human'],\n",
        "   'tuple': (1,2,3,4,5,'human'),\n",
        "   'set' : {1,2,3,4,5,'human'} }\n",
        "\n",
        "t=[1,2,3,4,5,6]\n",
        "print(t)\n",
        "\n",
        "t.pop()\n",
        "\n",
        "t\n",
        "\n",
        "t={9,8,7,6,5,4,3,2,1,0}\n",
        "\n",
        "t.pop()"
      ],
      "execution_count": 2,
      "outputs": [
        {
          "output_type": "stream",
          "text": [
            "[1, 2, 3, 4, 5, 'human']\n"
          ],
          "name": "stdout"
        }
      ]
    }
  ]
}